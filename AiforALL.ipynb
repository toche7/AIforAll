{
  "nbformat": 4,
  "nbformat_minor": 0,
  "metadata": {
    "colab": {
      "provenance": [],
      "gpuType": "T4",
      "authorship_tag": "ABX9TyOXQTy6diFOq748RcYWCMw3",
      "include_colab_link": true
    },
    "kernelspec": {
      "name": "python3",
      "display_name": "Python 3"
    },
    "language_info": {
      "name": "python"
    },
    "accelerator": "GPU"
  },
  "cells": [
    {
      "cell_type": "markdown",
      "metadata": {
        "id": "view-in-github",
        "colab_type": "text"
      },
      "source": [
        "<a href=\"https://colab.research.google.com/github/toche7/AIforAll/blob/main/AiforALL.ipynb\" target=\"_parent\"><img src=\"https://colab.research.google.com/assets/colab-badge.svg\" alt=\"Open In Colab\"/></a>"
      ]
    },
    {
      "cell_type": "markdown",
      "source": [
        "# Demo Ai for All\n",
        "* Install the related Library"
      ],
      "metadata": {
        "id": "YfmihmqT_eR8"
      }
    },
    {
      "cell_type": "code",
      "execution_count": null,
      "metadata": {
        "id": "8dQ0OWrr56_3"
      },
      "outputs": [],
      "source": [
        "!pip install openai"
      ]
    },
    {
      "cell_type": "markdown",
      "source": [
        "* need the OPENAI_API_KEY form the OpenAI website"
      ],
      "metadata": {
        "id": "sHladnFF_zSf"
      }
    },
    {
      "cell_type": "code",
      "source": [
        "from openai import OpenAI\n",
        "import os\n",
        "from google.colab import userdata\n",
        "os.environ[\"OPENAI_API_KEY\"] = userdata.get('OPENAI_API_KEY')\n",
        "client = OpenAI()"
      ],
      "metadata": {
        "id": "lxOK0vwE6Dae"
      },
      "execution_count": null,
      "outputs": []
    },
    {
      "cell_type": "code",
      "source": [
        "def get_completion(prompt, model=\"gpt-3.5-turbo\"):\n",
        "    messages = [{\"role\": \"user\", \"content\": prompt}]\n",
        "    response = client.chat.completions.create(\n",
        "        model=model,\n",
        "        messages=messages,\n",
        "        temperature=0\n",
        "    )\n",
        "    return response.choices[0].message.content"
      ],
      "metadata": {
        "id": "Bh-_XVVr6Lon"
      },
      "execution_count": null,
      "outputs": []
    },
    {
      "cell_type": "markdown",
      "source": [
        "## Zero Shot Technique\n",
        "ทดสอบ Positive and Negative Sentiment with Zero Shot technique\n"
      ],
      "metadata": {
        "id": "xdE13ZdO6Pc7"
      }
    },
    {
      "cell_type": "code",
      "source": [
        "prompt = f\"\"\"\n",
        "Classified the give text are the positive or negative sentiment.\n",
        ": I love this resturant.\n",
        "\"\"\"\n",
        "response = get_completion(prompt)\n",
        "print(response)"
      ],
      "metadata": {
        "id": "WCFEvzEb6POv"
      },
      "execution_count": null,
      "outputs": []
    },
    {
      "cell_type": "code",
      "source": [
        "prompt = f\"\"\"\n",
        "Classified the give text are the positive or negative sentiment.\n",
        ": The price is quite high.\n",
        "\"\"\"\n",
        "response = get_completion(prompt)\n",
        "print(response)"
      ],
      "metadata": {
        "id": "Yz9sSCD47CQe"
      },
      "execution_count": null,
      "outputs": []
    },
    {
      "cell_type": "markdown",
      "source": [
        "### Tactic: Include details in your query to get more relevant answers\n",
        "\n",
        "In order to get a highly relevant response, make sure that requests provide any important details or context. Otherwise you are leaving it up to the model to guess what you mean."
      ],
      "metadata": {
        "id": "cQ2LjLd58FLy"
      }
    },
    {
      "cell_type": "markdown",
      "source": [
        "#### Worse Example"
      ],
      "metadata": {
        "id": "jYOBvbdh9Czy"
      }
    },
    {
      "cell_type": "code",
      "source": [
        "prompt = f\"\"\"\n",
        "ใครเป็นนายกรัฐมนตรี\n",
        "\"\"\"\n",
        "response = get_completion(prompt)\n",
        "print(response)"
      ],
      "metadata": {
        "id": "9DfppBQe8GGZ"
      },
      "execution_count": null,
      "outputs": []
    },
    {
      "cell_type": "markdown",
      "source": [
        "### Better Example"
      ],
      "metadata": {
        "id": "0RM4bk4n9at0"
      }
    },
    {
      "cell_type": "code",
      "source": [
        "prompt = f\"\"\"\n",
        "ใครเป็นนายกรัฐมนตรีของประเทศอังกฤษ\n",
        "\"\"\"\n",
        "response = get_completion(prompt)\n",
        "print(response)"
      ],
      "metadata": {
        "id": "jGne5hW19cx2"
      },
      "execution_count": null,
      "outputs": []
    },
    {
      "cell_type": "markdown",
      "source": [
        "### Tactic: Ask the model to adopt a persona"
      ],
      "metadata": {
        "id": "niBvSXMa-yJR"
      }
    },
    {
      "cell_type": "code",
      "source": [
        "text = f\"\"\"\n",
        "ฉันเก่งเลขและวิทยาศาสตร์ ภาษาอังกฤษฉันพอได้ ฉันควรทำอาชีพอะไรดี\n",
        "\"\"\"\n",
        "\n",
        "prompt = f\"\"\"\n",
        "You are career counselor, you will recommend the proper carreer to a student depending their interest and the expertist, you will answer in thai.\n",
        "The request delimited by triple backticks.\n",
        "```{text}```\n",
        "\"\"\"\n",
        "response = get_completion(prompt)\n",
        "print(response)"
      ],
      "metadata": {
        "id": "qewgbcCH-izW"
      },
      "execution_count": null,
      "outputs": []
    },
    {
      "cell_type": "markdown",
      "source": [
        "### Tactic: Use delimiters to clearly indicate distinct parts of the input"
      ],
      "metadata": {
        "id": "wWnDHw9d_kz6"
      }
    },
    {
      "cell_type": "code",
      "source": [
        "text = f\"\"\"\n",
        "เทรนด์ของเทคโนโลยี Generative AI (Gen AI) ซึ่งเป็นปัญญาประดิษฐ์ในรูปแบบหนึ่งกำลังร้อนแรง\n",
        "ในทุกแวดวงถูกพูดถึงในวงกว้างว่าจะรับมือกับสิ่งที่จะเกิดขึ้นในยุคนี้อย่างไร\n",
        "จะใช้ประโยชน์ที่มีมหาศาลนี้กับการใช้เป็นเครื่องมือเพื่ออำนวยความสะดวกในชีวิต\n",
        "การเรียน การทำงานต่อไปได้อย่างไร\n",
        "\n",
        "Gen AI นี้ไม่ใช่เป็นเพียงแค่กระแส แต่เป็นเทรนด์ที่ผู้คนทั่วโลกจำเป็นต้องเรียนรู้และฝึกฝนการป้อนคำถาม\n",
        "ออกคำสั่ง หรือข้อความ (Prompt) ให้ AI ซึ่งเปรียบเสมือนเป็นลูกน้อง ทำงานให้เราให้ได้มีประสิทธิภาพมากที่สุด\n",
        "ไม่เช่นนั้นจะก้าวตามคนอื่นไม่ทันในยุคสมัยของโลกที่มีการพัฒนาและเปลี่ยนแปลงไปอย่างรวดเร็ว\n",
        "\n",
        "Gen AI มีความฉลาดที่สามารถสร้างคอนเทนต์หรือเนื้อหาใหม่ๆ\n",
        "อัตโนมัติได้หลากหลายแบบไม่จำกัด โดยไม่ต้องพึ่งพามนุษย์เรา\n",
        "เช่นการสร้างรูปภาพ ข้อความ วิดีโอ เพลง เขียนโค้ด อีเมล เป็นต้น\n",
        "ด้วยความชาญฉลาดที่เรียนรู้จากข้อมูลที่มีอยู่ ด้วยการใช้เทคโนโลยีการเรียนรู้เชิงลึก (Deep Learning)\n",
        "จากการเรียนรู้ในระบบโดยไม่ต้องเขียนโค้ด สร้างสิ่งใหม่ๆ เกิดขึ้นตามต้องการ\n",
        "\"\"\"\n",
        "\n",
        "prompt = f\"\"\"\n",
        "Summarize the text delimited in Thai by triple backticks.\n",
        "```{text}```\n",
        "\"\"\"\n",
        "response = get_completion(prompt)\n",
        "print(response)"
      ],
      "metadata": {
        "id": "ac6DkyZ8_mi5"
      },
      "execution_count": null,
      "outputs": []
    },
    {
      "cell_type": "markdown",
      "source": [
        "### Tactic: Specify the desired length of the output"
      ],
      "metadata": {
        "id": "kDRy8xjYEfay"
      }
    },
    {
      "cell_type": "code",
      "source": [
        "text = f\"\"\"\n",
        "เทรนด์ของเทคโนโลยี Generative AI (Gen AI) ซึ่งเป็นปัญญาประดิษฐ์ในรูปแบบหนึ่งกำลังร้อนแรง\n",
        "ในทุกแวดวงถูกพูดถึงในวงกว้างว่าจะรับมือกับสิ่งที่จะเกิดขึ้นในยุคนี้อย่างไร\n",
        "จะใช้ประโยชน์ที่มีมหาศาลนี้กับการใช้เป็นเครื่องมือเพื่ออำนวยความสะดวกในชีวิต\n",
        "การเรียน การทำงานต่อไปได้อย่างไร\n",
        "\n",
        "Gen AI นี้ไม่ใช่เป็นเพียงแค่กระแส แต่เป็นเทรนด์ที่ผู้คนทั่วโลกจำเป็นต้องเรียนรู้และฝึกฝนการป้อนคำถาม\n",
        "ออกคำสั่ง หรือข้อความ (Prompt) ให้ AI ซึ่งเปรียบเสมือนเป็นลูกน้อง ทำงานให้เราให้ได้มีประสิทธิภาพมากที่สุด\n",
        "ไม่เช่นนั้นจะก้าวตามคนอื่นไม่ทันในยุคสมัยของโลกที่มีการพัฒนาและเปลี่ยนแปลงไปอย่างรวดเร็ว\n",
        "\n",
        "Gen AI มีความฉลาดที่สามารถสร้างคอนเทนต์หรือเนื้อหาใหม่ๆ\n",
        "อัตโนมัติได้หลากหลายแบบไม่จำกัด โดยไม่ต้องพึ่งพามนุษย์เรา\n",
        "เช่นการสร้างรูปภาพ ข้อความ วิดีโอ เพลง เขียนโค้ด อีเมล เป็นต้น\n",
        "ด้วยความชาญฉลาดที่เรียนรู้จากข้อมูลที่มีอยู่ ด้วยการใช้เทคโนโลยีการเรียนรู้เชิงลึก (Deep Learning)\n",
        "จากการเรียนรู้ในระบบโดยไม่ต้องเขียนโค้ด สร้างสิ่งใหม่ๆ เกิดขึ้นตามต้องการ\n",
        "\"\"\"\n",
        "\n",
        "prompt = f\"\"\"\n",
        "Summarize the text delimited  in Thai  by triple backticks in about 10 words.\n",
        "```{text}```\n",
        "\"\"\"\n",
        "response = get_completion(prompt)\n",
        "print(response)"
      ],
      "metadata": {
        "id": "JE_Vw37lGWY_"
      },
      "execution_count": null,
      "outputs": []
    },
    {
      "cell_type": "code",
      "source": [],
      "metadata": {
        "id": "TRQJeeIA67JL"
      },
      "execution_count": null,
      "outputs": []
    }
  ]
}