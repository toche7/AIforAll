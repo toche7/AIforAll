{
  "nbformat": 4,
  "nbformat_minor": 0,
  "metadata": {
    "colab": {
      "provenance": [],
      "gpuType": "T4",
      "authorship_tag": "ABX9TyPA9PuTqAtoLrVqktG8S9yQ",
      "include_colab_link": true
    },
    "kernelspec": {
      "name": "python3",
      "display_name": "Python 3"
    },
    "language_info": {
      "name": "python"
    },
    "accelerator": "GPU"
  },
  "cells": [
    {
      "cell_type": "markdown",
      "metadata": {
        "id": "view-in-github",
        "colab_type": "text"
      },
      "source": [
        "<a href=\"https://colab.research.google.com/github/toche7/AIforAll/blob/main/AiforALL.ipynb\" target=\"_parent\"><img src=\"https://colab.research.google.com/assets/colab-badge.svg\" alt=\"Open In Colab\"/></a>"
      ]
    },
    {
      "cell_type": "code",
      "execution_count": 1,
      "metadata": {
        "colab": {
          "base_uri": "https://localhost:8080/"
        },
        "id": "8dQ0OWrr56_3",
        "outputId": "6925b89a-6f00-431f-9000-603ba20ae48e"
      },
      "outputs": [
        {
          "output_type": "stream",
          "name": "stdout",
          "text": [
            "Collecting openai\n",
            "  Downloading openai-1.12.0-py3-none-any.whl (226 kB)\n",
            "\u001b[?25l     \u001b[90m━━━━━━━━━━━━━━━━━━━━━━━━━━━━━━━━━━━━━━━━\u001b[0m \u001b[32m0.0/226.7 kB\u001b[0m \u001b[31m?\u001b[0m eta \u001b[36m-:--:--\u001b[0m\r\u001b[2K     \u001b[91m━━━━━━━━━━━━━━━━━━━━━\u001b[0m\u001b[91m╸\u001b[0m\u001b[90m━━━━━━━━━━━━━━━━━━\u001b[0m \u001b[32m122.9/226.7 kB\u001b[0m \u001b[31m3.4 MB/s\u001b[0m eta \u001b[36m0:00:01\u001b[0m\r\u001b[2K     \u001b[90m━━━━━━━━━━━━━━━━━━━━━━━━━━━━━━━━━━━━━━━━\u001b[0m \u001b[32m226.7/226.7 kB\u001b[0m \u001b[31m4.1 MB/s\u001b[0m eta \u001b[36m0:00:00\u001b[0m\n",
            "\u001b[?25hRequirement already satisfied: anyio<5,>=3.5.0 in /usr/local/lib/python3.10/dist-packages (from openai) (3.7.1)\n",
            "Requirement already satisfied: distro<2,>=1.7.0 in /usr/lib/python3/dist-packages (from openai) (1.7.0)\n",
            "Collecting httpx<1,>=0.23.0 (from openai)\n",
            "  Downloading httpx-0.27.0-py3-none-any.whl (75 kB)\n",
            "\u001b[2K     \u001b[90m━━━━━━━━━━━━━━━━━━━━━━━━━━━━━━━━━━━━━━━━\u001b[0m \u001b[32m75.6/75.6 kB\u001b[0m \u001b[31m7.0 MB/s\u001b[0m eta \u001b[36m0:00:00\u001b[0m\n",
            "\u001b[?25hRequirement already satisfied: pydantic<3,>=1.9.0 in /usr/local/lib/python3.10/dist-packages (from openai) (2.6.1)\n",
            "Requirement already satisfied: sniffio in /usr/local/lib/python3.10/dist-packages (from openai) (1.3.0)\n",
            "Requirement already satisfied: tqdm>4 in /usr/local/lib/python3.10/dist-packages (from openai) (4.66.2)\n",
            "Requirement already satisfied: typing-extensions<5,>=4.7 in /usr/local/lib/python3.10/dist-packages (from openai) (4.9.0)\n",
            "Requirement already satisfied: idna>=2.8 in /usr/local/lib/python3.10/dist-packages (from anyio<5,>=3.5.0->openai) (3.6)\n",
            "Requirement already satisfied: exceptiongroup in /usr/local/lib/python3.10/dist-packages (from anyio<5,>=3.5.0->openai) (1.2.0)\n",
            "Requirement already satisfied: certifi in /usr/local/lib/python3.10/dist-packages (from httpx<1,>=0.23.0->openai) (2024.2.2)\n",
            "Collecting httpcore==1.* (from httpx<1,>=0.23.0->openai)\n",
            "  Downloading httpcore-1.0.4-py3-none-any.whl (77 kB)\n",
            "\u001b[2K     \u001b[90m━━━━━━━━━━━━━━━━━━━━━━━━━━━━━━━━━━━━━━━━\u001b[0m \u001b[32m77.8/77.8 kB\u001b[0m \u001b[31m7.8 MB/s\u001b[0m eta \u001b[36m0:00:00\u001b[0m\n",
            "\u001b[?25hCollecting h11<0.15,>=0.13 (from httpcore==1.*->httpx<1,>=0.23.0->openai)\n",
            "  Downloading h11-0.14.0-py3-none-any.whl (58 kB)\n",
            "\u001b[2K     \u001b[90m━━━━━━━━━━━━━━━━━━━━━━━━━━━━━━━━━━━━━━━━\u001b[0m \u001b[32m58.3/58.3 kB\u001b[0m \u001b[31m7.7 MB/s\u001b[0m eta \u001b[36m0:00:00\u001b[0m\n",
            "\u001b[?25hRequirement already satisfied: annotated-types>=0.4.0 in /usr/local/lib/python3.10/dist-packages (from pydantic<3,>=1.9.0->openai) (0.6.0)\n",
            "Requirement already satisfied: pydantic-core==2.16.2 in /usr/local/lib/python3.10/dist-packages (from pydantic<3,>=1.9.0->openai) (2.16.2)\n",
            "Installing collected packages: h11, httpcore, httpx, openai\n",
            "Successfully installed h11-0.14.0 httpcore-1.0.4 httpx-0.27.0 openai-1.12.0\n"
          ]
        }
      ],
      "source": [
        "!pip install openai"
      ]
    },
    {
      "cell_type": "code",
      "source": [
        "from openai import OpenAI\n",
        "import os\n",
        "from google.colab import userdata\n",
        "\n",
        "os.environ[\"OPENAI_API_KEY\"] = userdata.get('OPENAI_API_KEY')\n",
        "client = OpenAI()"
      ],
      "metadata": {
        "id": "lxOK0vwE6Dae"
      },
      "execution_count": 2,
      "outputs": []
    },
    {
      "cell_type": "code",
      "source": [
        "def get_completion(prompt, model=\"gpt-3.5-turbo\"):\n",
        "    messages = [{\"role\": \"user\", \"content\": prompt}]\n",
        "    response = client.chat.completions.create(\n",
        "        model=model,\n",
        "        messages=messages,\n",
        "        temperature=0\n",
        "    )\n",
        "    return response.choices[0].message.content"
      ],
      "metadata": {
        "id": "Bh-_XVVr6Lon"
      },
      "execution_count": 3,
      "outputs": []
    },
    {
      "cell_type": "markdown",
      "source": [
        "## Zero Shot Technique\n",
        "ทดสอบ Positive and Negative Sentiment with Zero Shot technique\n"
      ],
      "metadata": {
        "id": "xdE13ZdO6Pc7"
      }
    },
    {
      "cell_type": "code",
      "source": [
        "prompt = f\"\"\"\n",
        "Classified the give text are the positive or negative sentiment.\n",
        ": I love this resturant.\n",
        "\"\"\"\n",
        "response = get_completion(prompt)\n",
        "print(response)"
      ],
      "metadata": {
        "colab": {
          "base_uri": "https://localhost:8080/"
        },
        "id": "WCFEvzEb6POv",
        "outputId": "a1026316-8622-41e7-a500-23f655e1634b"
      },
      "execution_count": 4,
      "outputs": [
        {
          "output_type": "stream",
          "name": "stdout",
          "text": [
            "Positive sentiment\n"
          ]
        }
      ]
    },
    {
      "cell_type": "code",
      "source": [
        "prompt = f\"\"\"\n",
        "Classified the give text are the positive or negative sentiment.\n",
        ": The price is quite high.\n",
        "\"\"\"\n",
        "response = get_completion(prompt)\n",
        "print(response)"
      ],
      "metadata": {
        "colab": {
          "base_uri": "https://localhost:8080/"
        },
        "id": "Yz9sSCD47CQe",
        "outputId": "14484b90-4225-4599-e309-30f95177cf90"
      },
      "execution_count": 5,
      "outputs": [
        {
          "output_type": "stream",
          "name": "stdout",
          "text": [
            "Negative sentiment\n"
          ]
        }
      ]
    },
    {
      "cell_type": "markdown",
      "source": [
        "### Tactic: Include details in your query to get more relevant answers\n",
        "\n",
        "In order to get a highly relevant response, make sure that requests provide any important details or context. Otherwise you are leaving it up to the model to guess what you mean."
      ],
      "metadata": {
        "id": "cQ2LjLd58FLy"
      }
    },
    {
      "cell_type": "markdown",
      "source": [
        "#### Worse Example"
      ],
      "metadata": {
        "id": "jYOBvbdh9Czy"
      }
    },
    {
      "cell_type": "code",
      "source": [
        "prompt = f\"\"\"\n",
        "ใครเป็นนายกรัฐมนตรี\n",
        "\"\"\"\n",
        "response = get_completion(prompt)\n",
        "print(response)"
      ],
      "metadata": {
        "colab": {
          "base_uri": "https://localhost:8080/"
        },
        "id": "9DfppBQe8GGZ",
        "outputId": "05f05cd2-19c8-476b-cd20-919d5e9ec7f6"
      },
      "execution_count": 6,
      "outputs": [
        {
          "output_type": "stream",
          "name": "stdout",
          "text": [
            "นายกรัฐมนตรีของประเทศไทยในปัจจุบันคือ นายประยุทธ์ จันทร์โอชา ซึ่งเข้ารับตำแหน่งตั้งแต่วันที่ 10 สิงหาคม 2560 และยังคงดำรงตำแหน่งอยู่ในปัจจุบัน\n"
          ]
        }
      ]
    },
    {
      "cell_type": "markdown",
      "source": [
        "### Better Example"
      ],
      "metadata": {
        "id": "0RM4bk4n9at0"
      }
    },
    {
      "cell_type": "code",
      "source": [
        "prompt = f\"\"\"\n",
        "ใครเป็นนายกรัฐมนตรีของประเทศอังกฤษ\n",
        "\"\"\"\n",
        "response = get_completion(prompt)\n",
        "print(response)"
      ],
      "metadata": {
        "colab": {
          "base_uri": "https://localhost:8080/"
        },
        "id": "jGne5hW19cx2",
        "outputId": "48fdd856-fca1-46ca-c96d-26ae6b1f7162"
      },
      "execution_count": 7,
      "outputs": [
        {
          "output_type": "stream",
          "name": "stdout",
          "text": [
            "นายกรัฐมนตรีของประเทศอังกฤษในปัจจุบันคือ โบริส จอห์นสัน (Boris Johnson) ซึ่งเข้ารับตำแหน่งตั้งแต่วันที่ 24 กรกฎาคม 2019 และเป็นนายกรัฐมนตรีคนที่ 55 ของประเทศอังกฤษในประวัติศาสตร์.\n"
          ]
        }
      ]
    },
    {
      "cell_type": "markdown",
      "source": [
        "### Tactic: Ask the model to adopt a persona"
      ],
      "metadata": {
        "id": "niBvSXMa-yJR"
      }
    },
    {
      "cell_type": "code",
      "source": [
        "prompt = f\"\"\"\n",
        "\"When I ask for help to write something, you will reply with a document that contains at least one joke or playful comment in every paragraph.\",\n",
        "\"Write a thank you note to my steel bolt vendor for getting the delivery in on time and in short notice. This made it possible for us to deliver an important order.\",\n",
        "\"\"\"\n",
        "response = get_completion(prompt)\n",
        "print(response)"
      ],
      "metadata": {
        "colab": {
          "base_uri": "https://localhost:8080/"
        },
        "id": "qewgbcCH-izW",
        "outputId": "353c2127-0db8-447a-890d-11bda56f311c"
      },
      "execution_count": 8,
      "outputs": [
        {
          "output_type": "stream",
          "name": "stdout",
          "text": [
            "Dear steel bolt vendor,\n",
            "\n",
            "I just wanted to take a moment to express my gratitude for your exceptional service in getting our delivery in on time and on short notice. Your efficiency and reliability made it possible for us to fulfill an important order, and for that, we are truly thankful.\n",
            "\n",
            "I must say, your ability to bolt into action and deliver with such speed and precision is truly impressive. It's like you have a bolt of lightning running through your veins!\n",
            "\n",
            "Thank you once again for your outstanding service. We look forward to continuing our partnership and working together in the future.\n",
            "\n",
            "Warm regards,\n",
            "\n",
            "[Your Name]\n"
          ]
        }
      ]
    },
    {
      "cell_type": "markdown",
      "source": [
        "### Tactic: Use delimiters to clearly indicate distinct parts of the input"
      ],
      "metadata": {
        "id": "wWnDHw9d_kz6"
      }
    },
    {
      "cell_type": "code",
      "source": [
        "text = f\"\"\"\n",
        "Write a short story about software engineers that work with large language models.\n",
        "The office in which they work is a maze of busy workstations, overflowing with wires, screens,\n",
        "and a vibrant group of passionate software engineers. The story should center\n",
        "around the following characters: Sasha, the coding prodigy; Mark, the AI psychologist; and\n",
        "Lily a brilliant creative problem solver and team leader.\n",
        "\"\"\"\n",
        "\n",
        "prompt = f\"\"\"\n",
        "Summarize the text delimited by triple backticks.\n",
        "```{text}```\n",
        "\"\"\"\n",
        "response = get_completion(prompt)\n",
        "print(response)"
      ],
      "metadata": {
        "colab": {
          "base_uri": "https://localhost:8080/"
        },
        "id": "ac6DkyZ8_mi5",
        "outputId": "cdc1cf39-bb11-4457-e77d-1167af357569"
      },
      "execution_count": 9,
      "outputs": [
        {
          "output_type": "stream",
          "name": "stdout",
          "text": [
            "The text describes a short story about software engineers working with large language models in a busy office filled with passionate individuals. The story focuses on Sasha, the coding prodigy; Mark, the AI psychologist; and Lily, a creative problem solver and team leader.\n"
          ]
        }
      ]
    },
    {
      "cell_type": "markdown",
      "source": [
        "### Tactic: Specify the steps required to complete a task"
      ],
      "metadata": {
        "id": "YzjHvh7lDelg"
      }
    },
    {
      "cell_type": "code",
      "source": [
        "text = f\"\"\"\n",
        "The Apollo program, also known as Project Apollo, was the third United States human spaceflight program carried out by the National Aeronautics and Space Administration (NASA), which succeeded in preparing and landing the first humans on the Moon from 1968 to 1972. It was first conceived in 1960 during President Dwight D. Eisenhower's administration as a three-person spacecraft to follow the one-person Project Mercury, which put the first Americans in space. Apollo was later dedicated to President John F. Kennedy's national goal for the 1960s of \"landing a man on the Moon and returning him safely to the Earth\" in an address to Congress on May 25, 1961. It was the third US human spaceflight program to fly, preceded by the two-person Project Gemini conceived in 1961 to extend spaceflight capability in support of Apollo.\n",
        "Kennedy's goal was accomplished on the Apollo 11 mission when astronauts Neil Armstrong and Buzz Aldrin landed their Apollo Lunar Module (LM) on July 20, 1969, and walked on the lunar surface, while Michael Collins remained in lunar orbit in the command and service module (CSM), and all three landed safely on Earth in the Pacific Ocean on July 24. Five subsequent Apollo missions also landed astronauts on the Moon, the last, Apollo 17, in December 1972. In these six spaceflights, twelve people walked on the Moon.\n",
        "Apollo ran from 1961 to 1972, with the first crewed flight in 1968. It encountered a major setback in 1967 when an Apollo 1 cabin fire killed the entire crew during a prelaunch test. After the first successful landing, sufficient flight hardware remained for nine follow-on landings with a plan for extended lunar geological and astrophysical exploration. Budget cuts forced the cancellation of three of these. Five of the remaining six missions achieved successful landings, but the Apollo 13 landing was prevented by an oxygen tank explosion in transit to the Moon, crippling the CSM. The crew barely returned to Earth safely by using the lunar module as a \"lifeboat\" on the return journey. Apollo used the Saturn family of rockets as launch vehicles, which were also used for an Apollo Applications Program, which consisted of Skylab, a space station that supported three crewed missions in 1973–1974, and the Apollo–Soyuz Test Project, a joint United States-Soviet Union low Earth orbit mission in 1975.\n",
        "Apollo set several major human spaceflight milestones. It stands alone in sending crewed missions beyond low Earth orbit. Apollo 8 was the first crewed spacecraft to orbit another celestial body, and Apollo 11 was the first crewed spacecraft to land humans on one.\n",
        "Overall the Apollo program returned 842 pounds (382 kg) of lunar rocks and soil to Earth, greatly contributing to the understanding of the Moon's composition and geological history. The program laid the foundation for NASA's subsequent human spaceflight capability, and funded construction of its Johnson Space Center and Kennedy Space Center. Apollo also spurred advances in many areas of technology incidental to rocketry and human spaceflight, including avionics, telecommunications, and computers.\n",
        "-Excerpted from https://en.wikipedia.org/wiki/Apollo_program\n",
        "\"\"\"\n",
        "prompt = f\"\"\"\n",
        "Use the following step-by-step instructions to respond to user inputs.\n",
        "Step 1 - The user will provide you with text in triple backticks. Summarize this text in one sentence with a prefix that says 'Summary: '.\n",
        "Step 2 - Translate the summary from Step 1 into thai, with a prefix that says 'Translation: '.\n",
        "```{text}```\n",
        "\"\"\"\n",
        "response = get_completion(prompt)\n",
        "print(response)"
      ],
      "metadata": {
        "colab": {
          "base_uri": "https://localhost:8080/"
        },
        "id": "tRNqfoWaECQG",
        "outputId": "78dc539f-4887-4bec-b24b-4cf36e22be16"
      },
      "execution_count": 10,
      "outputs": [
        {
          "output_type": "stream",
          "name": "stdout",
          "text": [
            "Summary: The Apollo program was the third US human spaceflight program that successfully landed the first humans on the Moon from 1968 to 1972, achieving President Kennedy's goal of \"landing a man on the Moon and returning him safely to Earth.\"\n",
            "\n",
            "Translation: โปรแกรม Apollo เป็นโปรแกรมการเดินทางอวกาศของมนุษย์ของสหรัฐที่สามที่ลงบนดวงจันทร์ครั้งแรกจากปี พ.ศ. 2511 ถึง พ.ศ. 2515 ซึ่งสำเร็จในการเตรียมการและลงบนดวงจันทร์คนแรกโดยมีวัตถุประสงค์ของประธานาธิบดีเคนเนดี้วิท ไอเซนเฮาวเวอร์ในที่ประชุมสภาในวันที่ 25 พฤษภาคม พ.ศ. 2504 โปรแกรมนี้เป็นโปรแกรมการเดินทางอวกาศของมนุษย์ของสหรัฐที่สามที่บิน โดยมีโปรแกรม Gemini ที่มีคนขับเครื่อง 2 คนที่ถูกคิดค้นในปี พ.ศ. 2504 เพื่อขยายความสามารถในการเดินทางอวกาศเพื่อสนับสนุน Apollo ด้วย\n"
          ]
        }
      ]
    },
    {
      "cell_type": "markdown",
      "source": [
        "### Tactic: Specify the desired length of the output"
      ],
      "metadata": {
        "id": "kDRy8xjYEfay"
      }
    },
    {
      "cell_type": "code",
      "source": [
        "text = f\"\"\"\n",
        "Write a short story about software engineers that work with large language models.\n",
        "The office in which they work is a maze of busy workstations, overflowing with wires, screens,\n",
        "and a vibrant group of passionate software engineers. The story should center\n",
        "around the following characters: Sasha, the coding prodigy; Mark, the AI psychologist; and\n",
        "Lily a brilliant creative problem solver and team leader.\n",
        "\"\"\"\n",
        "\n",
        "prompt = f\"\"\"\n",
        "Summarize the text delimited by triple backticks in about 10 words.\n",
        "```{text}```\n",
        "\"\"\"\n",
        "response = get_completion(prompt)\n",
        "print(response)"
      ],
      "metadata": {
        "colab": {
          "base_uri": "https://localhost:8080/"
        },
        "id": "JE_Vw37lGWY_",
        "outputId": "52c9b34e-cce0-428b-ae6a-c408b3eda9fd"
      },
      "execution_count": 11,
      "outputs": [
        {
          "output_type": "stream",
          "name": "stdout",
          "text": [
            "Story about software engineers in a busy office with unique characters.\n"
          ]
        }
      ]
    }
  ]
}